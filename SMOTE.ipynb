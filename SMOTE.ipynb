{
  "nbformat": 4,
  "nbformat_minor": 0,
  "metadata": {
    "colab": {
      "provenance": [],
      "include_colab_link": true
    },
    "kernelspec": {
      "name": "python3",
      "display_name": "Python 3"
    },
    "language_info": {
      "name": "python"
    }
  },
  "cells": [
    {
      "cell_type": "markdown",
      "metadata": {
        "id": "view-in-github",
        "colab_type": "text"
      },
      "source": [
        "<a href=\"https://colab.research.google.com/github/Anu-jo/week3/blob/main/SMOTE.ipynb\" target=\"_parent\"><img src=\"https://colab.research.google.com/assets/colab-badge.svg\" alt=\"Open In Colab\"/></a>"
      ]
    },
    {
      "cell_type": "code",
      "execution_count": null,
      "metadata": {
        "colab": {
          "base_uri": "https://localhost:8080/"
        },
        "id": "QZ-0PMHwCjRi",
        "outputId": "67427678-d289-4881-b2b4-6f42cbc5e4ab"
      },
      "outputs": [
        {
          "output_type": "stream",
          "name": "stderr",
          "text": [
            "/usr/local/lib/python3.8/dist-packages/sklearn/utils/validation.py:1688: FutureWarning: Feature names only support names that are all strings. Got feature names with dtypes: ['str', 'tuple']. An error will be raised in 1.2.\n",
            "  warnings.warn(\n"
          ]
        },
        {
          "output_type": "stream",
          "name": "stdout",
          "text": [
            "Original dataset shape Counter({'DERMASON': 3546, 'SIRA': 2636, 'SEKER': 2027, 'HOROZ': 1928, 'CALI': 1630, 'BARBUNYA': 1322, 'BOMBAY': 522})\n",
            "Resample dataset shape Counter({'SEKER': 3546, 'BARBUNYA': 3546, 'BOMBAY': 3546, 'CALI': 3546, 'HOROZ': 3546, 'SIRA': 3546, 'DERMASON': 3546})\n",
            "[[-0.90001049 -1.21834013 -1.35253199 ... -0.40824829  2.44948974\n",
            "  -0.40824829]\n",
            " [-0.89265076 -1.12460032 -1.41939031 ... -0.40824829  2.44948974\n",
            "  -0.40824829]\n",
            " [-0.87862602 -1.17162067 -1.31192761 ... -0.40824829  2.44948974\n",
            "  -0.40824829]\n",
            " ...\n",
            " [-0.50972772 -0.56786924 -0.64266972 ... -0.40824829 -0.40824829\n",
            "   2.44948974]\n",
            " [-0.40310933 -0.38519158 -0.31307664 ... -0.40824829 -0.40824829\n",
            "   2.44948974]\n",
            " [-0.62353215 -0.75241218 -0.73857273 ... -0.40824829 -0.40824829\n",
            "   2.44948974]]\n"
          ]
        },
        {
          "output_type": "stream",
          "name": "stderr",
          "text": [
            "/usr/local/lib/python3.8/dist-packages/sklearn/utils/validation.py:1688: FutureWarning: Feature names only support names that are all strings. Got feature names with dtypes: ['str', 'tuple']. An error will be raised in 1.2.\n",
            "  warnings.warn(\n",
            "/usr/local/lib/python3.8/dist-packages/sklearn/utils/validation.py:1688: FutureWarning: Feature names only support names that are all strings. Got feature names with dtypes: ['str', 'tuple']. An error will be raised in 1.2.\n",
            "  warnings.warn(\n"
          ]
        }
      ],
      "source": [
        "\n",
        "import numpy as np\n",
        "import pandas as pd\n",
        "import seaborn as sns\n",
        "import matplotlib.pyplot as plt\n",
        "import imblearn\n",
        "import sklearn\n",
        "from imblearn.under_sampling import RandomUnderSampler\n",
        "from imblearn.over_sampling import RandomOverSampler\n",
        "from collections import Counter\n",
        "from imblearn.over_sampling import SMOTE\n",
        "from sklearn.decomposition import PCA\n",
        "from sklearn.discriminant_analysis import LinearDiscriminantAnalysis\n",
        "df=pd.read_csv('Dry_Bean_Dataset.csv')\n",
        "#data encoding\n",
        "from sklearn.preprocessing import OneHotEncoder\n",
        "oe_style = OneHotEncoder()\n",
        "oe_results = oe_style.fit_transform(df[[\"Class\"]])\n",
        "pd.DataFrame(oe_results.toarray(), columns=oe_style.categories_).head()\n",
        "df= df.join(pd.DataFrame(oe_results.toarray(), columns=oe_style.categories_))\n",
        "y = df['Class']#dependent variable\n",
        "X = df.drop(['Class'], axis = 1)#independent variable\n",
        "smote = SMOTE()\n",
        "# fit predictor and target variable\n",
        "x_smote, y_smote = smote.fit_resample(X, y)\n",
        "print('Original dataset shape', Counter(y))\n",
        "print('Resample dataset shape', Counter(y_smote))\n",
        "#data standardization\n",
        "from sklearn.preprocessing import StandardScaler\n",
        "object= StandardScaler()\n",
        " # standardization\n",
        "X_std = object.fit_transform(x_smote)\n",
        "print(X_std)\n"
      ]
    },
    {
      "cell_type": "code",
      "source": [
        "g = sns.countplot(df['Class'])\n",
        "g_smote = sns.countplot(y_smote)\n",
        "g.set_xticklabels(['SEKER','BARBUNYA','BOMBAY','CALI','HOROZ','SIRA','DERMASON'])\n",
        "plt.show()"
      ],
      "metadata": {
        "colab": {
          "base_uri": "https://localhost:8080/",
          "height": 368
        },
        "id": "U6hq95L6DQrI",
        "outputId": "0719cee5-722c-4023-f90a-bbbe9609b607"
      },
      "execution_count": null,
      "outputs": [
        {
          "output_type": "stream",
          "name": "stderr",
          "text": [
            "/usr/local/lib/python3.8/dist-packages/seaborn/_decorators.py:36: FutureWarning: Pass the following variable as a keyword arg: x. From version 0.12, the only valid positional argument will be `data`, and passing other arguments without an explicit keyword will result in an error or misinterpretation.\n",
            "  warnings.warn(\n",
            "/usr/local/lib/python3.8/dist-packages/seaborn/_decorators.py:36: FutureWarning: Pass the following variable as a keyword arg: x. From version 0.12, the only valid positional argument will be `data`, and passing other arguments without an explicit keyword will result in an error or misinterpretation.\n",
            "  warnings.warn(\n"
          ]
        },
        {
          "output_type": "display_data",
          "data": {
            "text/plain": [
              "<Figure size 432x288 with 1 Axes>"
            ],
            "image/png": "[encoded data removed]"
          },
          "metadata": {
            "needs_background": "light"
          }
        }
      ]
    },
    {
      "cell_type": "code",
      "source": [
        "lda = LinearDiscriminantAnalysis()\n",
        "X_lda = lda.fit_transform(X, y)\n",
        "X_lda"
      ],
      "metadata": {
        "id": "u_agVikpc5ki",
        "colab": {
          "base_uri": "https://localhost:8080/"
        },
        "outputId": "4ba804e6-1c9b-4a2f-92bb-998e958fa475"
      },
      "execution_count": null,
      "outputs": [
        {
          "output_type": "stream",
          "name": "stderr",
          "text": [
            "/usr/local/lib/python3.8/dist-packages/sklearn/utils/validation.py:1688: FutureWarning: Feature names only support names that are all strings. Got feature names with dtypes: ['str', 'tuple']. An error will be raised in 1.2.\n",
            "  warnings.warn(\n",
            "/usr/local/lib/python3.8/dist-packages/sklearn/utils/validation.py:1688: FutureWarning: Feature names only support names that are all strings. Got feature names with dtypes: ['str', 'tuple']. An error will be raised in 1.2.\n",
            "  warnings.warn(\n"
          ]
        },
        {
          "output_type": "execute_result",
          "data": {
            "text/plain": [
              "array([[ 2.64931865, -2.28669012,  2.17033366, -2.72244854, -1.03923035,\n",
              "        -2.3974093 ],\n",
              "       [ 1.33428765, -1.05963799,  3.68575463, -1.69811644, -1.75172933,\n",
              "        -1.056052  ],\n",
              "       [ 2.66334205, -2.21976529,  2.36580382, -2.5404499 , -0.76526182,\n",
              "        -2.02995891],\n",
              "       ...,\n",
              "       [ 2.09475456, -1.2618103 , -0.5082351 ,  0.61563482, -0.28994781,\n",
              "         1.30430414],\n",
              "       [ 1.99774574, -1.03158541, -0.79092497,  0.72565945, -0.26821312,\n",
              "         1.4137352 ],\n",
              "       [ 1.76692639, -0.15962229, -1.20314046,  0.74654948, -0.15932636,\n",
              "         1.22705777]])"
            ]
          },
          "metadata": {},
          "execution_count": 3
        }
      ]
    },
    {
      "cell_type": "code",
      "source": [
        "#dimensionality reduction using PCA\n",
        "from sklearn.model_selection import train_test_split# model for splitting the data\n",
        "# we split 80% of the data for model training and 20% accuracy model testing\n",
        "XTrain, XTest, YTrain, YTest = train_test_split(X_std, y_smote, test_size = 0.2, random_state =100)\n",
        "# Scalling the features\n",
        "stndS = StandardScaler()\n",
        "XTrain = stndS.fit_transform(XTrain)\n",
        "XTest = stndS.transform(XTest)\n",
        "#PCA calculation\n",
        "pca=PCA()\n",
        "XTrain_pca=pca.fit_transform(XTrain)\n",
        "XTest_pca=pca.transform(XTest)\n",
        "#print(pca.explained_variance_ratio_*100)\n",
        "cum_sum_pca=np.cumsum(pca.explained_variance_ratio_*100)\n",
        "print(cum_sum_pca)\n",
        "plt.plot(np.cumsum(pca.explained_variance_ratio_*100))\n",
        "plt.xlabel('Number of components')\n",
        "plt.ylabel('Cumulative Explained variance(%)')\n"
      ],
      "metadata": {
        "colab": {
          "base_uri": "https://localhost:8080/",
          "height": 383
        },
        "id": "OqpMDjBBDjCk",
        "outputId": "a0ada11a-e534-4fbd-bbe9-f2fd8d5a9df9"
      },
      "execution_count": null,
      "outputs": [
        {
          "output_type": "stream",
          "name": "stdout",
          "text": [
            "[ 41.46672698  66.41075811  73.88825303  79.85545214  85.26638076\n",
            "  90.42630943  94.64530201  97.6349461   98.48046118  99.16027205\n",
            "  99.47910892  99.71536277  99.88532753  99.96858438  99.99286342\n",
            "  99.99656618  99.99884924  99.99952576  99.99995574  99.9999883\n",
            "  99.99999466 100.         100.        ]\n"
          ]
        },
        {
          "output_type": "execute_result",
          "data": {
            "text/plain": [
              "Text(0, 0.5, 'Cumulative Explained variance(%)')"
            ]
          },
          "metadata": {},
          "execution_count": 4
        },
        {
          "output_type": "display_data",
          "data": {
            "text/plain": [
              "<Figure size 432x288 with 1 Axes>"
            ],
            "image/png": "[encoded data removed]"
          },
          "metadata": {
            "needs_background": "light"
          }
        }
      ]
    },
    {
      "cell_type": "code",
      "source": [
        "plt.plot(pca.explained_variance_ratio_*100)\n",
        "plt.xlabel('Number of components')\n",
        "plt.ylabel('Cumulative Explained variance(%)')"
      ],
      "metadata": {
        "colab": {
          "base_uri": "https://localhost:8080/",
          "height": 296
        },
        "id": "aw9yDmvTKGBc",
        "outputId": "b7d0df12-8a32-42ce-db74-c71829887eea"
      },
      "execution_count": null,
      "outputs": [
        {
          "output_type": "execute_result",
          "data": {
            "text/plain": [
              "Text(0, 0.5, 'Cumulative Explained variance(%)')"
            ]
          },
          "metadata": {},
          "execution_count": 5
        },
        {
          "output_type": "display_data",
          "data": {
            "text/plain": [
              "<Figure size 432x288 with 1 Axes>"
            ],
            "image/png": "[encoded data removed]"
          },
          "metadata": {
            "needs_background": "light"
          }
        }
      ]
    },
    {
      "cell_type": "code",
      "source": [
        "#taking 95% of varaiance contributed components\n",
        "pca_95=PCA(n_components=0.95)\n",
        "X_pca_95=pca_95.fit_transform(X_std)\n",
        "print(X_pca_95.shape)\n",
        "#creating new dataset that is dimensionally reduced\n",
        "df_new=pd.DataFrame(X_pca_95,columns=['PC1','PC2','PC3','PC4','PC5','PC6','PC7','PC8'])\n",
        "df_new['Class']=y_smote\n",
        "print(df_new.head())\n",
        "#df_new.to_csv('Drybeans_95.csv',index=False)\n",
        "y_new = df_new['Class']#dependent variable\n",
        "X_new = df_new.drop(['Class'], axis = 1)#independent variable\n",
        "\n"
      ],
      "metadata": {
        "id": "9HWflY1UDrJU",
        "colab": {
          "base_uri": "https://localhost:8080/"
        },
        "outputId": "a0cffa96-7e4f-4c3f-abf3-631d0ec4177c"
      },
      "execution_count": null,
      "outputs": [
        {
          "output_type": "stream",
          "name": "stdout",
          "text": [
            "(24822, 8)\n",
            "        PC1       PC2       PC3       PC4       PC5       PC6       PC7  \\\n",
            "0 -5.444867 -2.719322  0.332838 -0.069033  1.751435  0.274256  0.514566   \n",
            "1 -5.872886 -3.648355  1.600252 -0.016061  1.930429  0.445694  1.085560   \n",
            "2 -5.252681 -2.686870  0.242213 -0.082863  1.686522  0.217962  0.236777   \n",
            "3 -4.912997 -2.667781  2.252766  0.717571  1.831457  0.627602  2.135911   \n",
            "4 -6.628790 -4.811348  0.626404 -0.109386  2.133337  0.356207  0.780760   \n",
            "\n",
            "        PC8  Class  \n",
            "0  0.068769  SEKER  \n",
            "1  0.555905  SEKER  \n",
            "2  0.302607  SEKER  \n",
            "3  0.990780  SEKER  \n",
            "4 -0.025097  SEKER  \n"
          ]
        }
      ]
    },
    {
      "cell_type": "code",
      "source": [],
      "metadata": {
        "id": "2-q0AVD5IGhJ"
      },
      "execution_count": null,
      "outputs": []
    },
    {
      "cell_type": "code",
      "source": [
        "from sklearn.preprocessing import OneHotEncoder\n",
        "oe_style = OneHotEncoder()\n",
        "oe_results = oe_style.fit_transform(df_new[[\"Class\"]])\n",
        "pd.DataFrame(oe_results.toarray(), columns=oe_style.categories_).head()\n",
        "df_new = df_new.join(pd.DataFrame(oe_results.toarray(), columns=oe_style.categories_))"
      ],
      "metadata": {
        "id": "b_gE6mji1su7"
      },
      "execution_count": null,
      "outputs": []
    },
    {
      "cell_type": "code",
      "source": [
        "# standardization\n",
        "X_std = object.fit_transform(X_new)\n",
        "print(X_std)"
      ],
      "metadata": {
        "colab": {
          "base_uri": "https://localhost:8080/"
        },
        "id": "aKpMdrR-ILeT",
        "outputId": "ef79f191-7130-424e-eb0b-77e519f53200"
      },
      "execution_count": null,
      "outputs": [
        {
          "output_type": "stream",
          "name": "stdout",
          "text": [
            "[[-1.76515090e+00 -1.13374564e+00  2.53624666e-01 ...  2.51461671e-01\n",
            "   5.22047321e-01  8.28412971e-02]\n",
            " [-1.90390898e+00 -1.52108028e+00  1.21940211e+00 ...  4.08651318e-01\n",
            "   1.10134329e+00  6.69662699e-01]\n",
            " [-1.70284682e+00 -1.12021594e+00  1.84567833e-01 ...  1.99846295e-01\n",
            "   2.40219676e-01  3.64530379e-01]\n",
            " ...\n",
            " [-7.07890449e-01 -2.73875047e-01 -4.91535674e-01 ... -2.16365398e+00\n",
            "   4.23845776e-01  1.74576791e-02]\n",
            " [-2.75298693e-01  3.55212814e-01 -6.79768963e-01 ... -2.18560865e+00\n",
            "   3.54831414e-01 -4.01178869e-01]\n",
            " [-7.64784320e-01 -1.64957302e-03 -7.45797513e-01 ... -2.15429672e+00\n",
            "   4.71505274e-01 -3.78838956e-01]]\n"
          ]
        }
      ]
    },
    {
      "cell_type": "code",
      "source": [
        "from sklearn.model_selection import train_test_split# model for splitting the data\n",
        "# we split 80% of the data for model training and 20% accuracy model testing\n",
        "XTrain, XTest, YTrain, YTest = train_test_split(X_std, y_new, test_size = 0.2, random_state = 100)"
      ],
      "metadata": {
        "id": "9qeaOU0HIQcy"
      },
      "execution_count": null,
      "outputs": []
    },
    {
      "cell_type": "code",
      "source": [
        "from sklearn.naive_bayes import GaussianNB\n",
        "\n",
        "#Calling the Class\n",
        "naive_bayes = GaussianNB()\n",
        "\n",
        "#Fitting the data to the classifier\n",
        "naive_bayes.fit(XTrain , YTrain)\n",
        "\n",
        "#Predict on test data\n",
        "y_predicted = naive_bayes.predict(XTest)\n"
      ],
      "metadata": {
        "id": "UlOINKbWGfBc"
      },
      "execution_count": null,
      "outputs": []
    },
    {
      "cell_type": "code",
      "source": [
        "from sklearn.metrics import accuracy_score,confusion_matrix,plot_confusion_matrix\n",
        "print('Accuracy score for full data set:')\n",
        "accuracy_score=accuracy_score(y_predicted , YTest)\n",
        "accuracy_score\n"
      ],
      "metadata": {
        "colab": {
          "base_uri": "https://localhost:8080/"
        },
        "id": "8KWcjJuSG7Es",
        "outputId": "ef05a843-c91e-4b41-f09c-231ac1e4ed3d"
      },
      "execution_count": null,
      "outputs": [
        {
          "output_type": "stream",
          "name": "stdout",
          "text": [
            "Accuracy score for full data set:\n"
          ]
        },
        {
          "output_type": "execute_result",
          "data": {
            "text/plain": [
              "0.998992950654582"
            ]
          },
          "metadata": {},
          "execution_count": 11
        }
      ]
    },
    {
      "cell_type": "code",
      "source": [
        "confusion_matrix(YTest, y_predicted)\n"
      ],
      "metadata": {
        "colab": {
          "base_uri": "https://localhost:8080/"
        },
        "id": "1xR5591oYYbU",
        "outputId": "a8ba80eb-e65f-4039-d584-2c5762da47ed"
      },
      "execution_count": null,
      "outputs": [
        {
          "output_type": "execute_result",
          "data": {
            "text/plain": [
              "array([[743,   0,   1,   0,   0,   0,   0],\n",
              "       [  0, 710,   0,   0,   0,   0,   0],\n",
              "       [  0,   0, 654,   0,   1,   0,   0],\n",
              "       [  0,   0,   0, 690,   2,   0,   0],\n",
              "       [  0,   0,   0,   0, 743,   0,   0],\n",
              "       [  0,   0,   0,   0,   1, 665,   0],\n",
              "       [  0,   0,   0,   0,   0,   0, 755]])"
            ]
          },
          "metadata": {},
          "execution_count": 12
        }
      ]
    },
    {
      "cell_type": "code",
      "source": [
        "plot_confusion_matrix(naive_bayes,XTest,YTest)"
      ],
      "metadata": {
        "colab": {
          "base_uri": "https://localhost:8080/",
          "height": 351
        },
        "id": "i70qU1gcYi-S",
        "outputId": "1d7eb9bd-34ec-4203-ba4f-b8bdefcfb94a"
      },
      "execution_count": null,
      "outputs": [
        {
          "output_type": "stream",
          "name": "stderr",
          "text": [
            "/usr/local/lib/python3.8/dist-packages/sklearn/utils/deprecation.py:87: FutureWarning: Function plot_confusion_matrix is deprecated; Function `plot_confusion_matrix` is deprecated in 1.0 and will be removed in 1.2. Use one of the class methods: ConfusionMatrixDisplay.from_predictions or ConfusionMatrixDisplay.from_estimator.\n",
            "  warnings.warn(msg, category=FutureWarning)\n"
          ]
        },
        {
          "output_type": "execute_result",
          "data": {
            "text/plain": [
              "<sklearn.metrics._plot.confusion_matrix.ConfusionMatrixDisplay at 0x7fcb14c6cd90>"
            ]
          },
          "metadata": {},
          "execution_count": 13
        },
        {
          "output_type": "display_data",
          "data": {
            "text/plain": [
              "<Figure size 432x288 with 2 Axes>"
            ],
            "image/png": "[encoded data removed]"
          },
          "metadata": {
            "needs_background": "light"
          }
        }
      ]
    },
    {
      "cell_type": "code",
      "source": [
        "#decision tree classifier\n",
        "from sklearn.tree import DecisionTreeClassifier\n",
        "clf_model = DecisionTreeClassifier(criterion=\"entropy\", random_state=42,max_depth=3, min_samples_leaf=7)\n",
        "clf_model.fit(XTrain,YTrain)\n",
        "y_predict = clf_model.predict(XTest)\n",
        "from sklearn.metrics import accuracy_score,classification_report,confusion_matrix,plot_confusion_matrix\n",
        "accuracy_score(YTest,y_predict)\n"
      ],
      "metadata": {
        "colab": {
          "base_uri": "https://localhost:8080/"
        },
        "id": "JbLoZXujKeZW",
        "outputId": "313e5f62-7ff1-4cb8-e963-c0fa88a92667"
      },
      "execution_count": null,
      "outputs": [
        {
          "output_type": "execute_result",
          "data": {
            "text/plain": [
              "0.9824773413897281"
            ]
          },
          "metadata": {},
          "execution_count": 14
        }
      ]
    },
    {
      "cell_type": "code",
      "source": [
        "confusion_matrix(YTest,y_predict)"
      ],
      "metadata": {
        "colab": {
          "base_uri": "https://localhost:8080/"
        },
        "id": "hMCD4RTNZYKx",
        "outputId": "568dfcd3-f002-4927-9b13-7a7ccf363699"
      },
      "execution_count": null,
      "outputs": [
        {
          "output_type": "execute_result",
          "data": {
            "text/plain": [
              "array([[698,  46,   0,   0,   0,   0,   0],\n",
              "       [  9, 693,   2,   0,   6,   0,   0],\n",
              "       [  0,   0, 655,   0,   0,   0,   0],\n",
              "       [  0,   0,   0, 692,   0,   0,   0],\n",
              "       [  0,   0,  19,   0, 724,   0,   0],\n",
              "       [  0,   0,   0,   0,   5, 661,   0],\n",
              "       [  0,   0,   0,   0,   0,   0, 755]])"
            ]
          },
          "metadata": {},
          "execution_count": 15
        }
      ]
    },
    {
      "cell_type": "code",
      "source": [
        "plot_confusion_matrix(clf_model,XTest,YTest)"
      ],
      "metadata": {
        "colab": {
          "base_uri": "https://localhost:8080/",
          "height": 351
        },
        "id": "OPX7igWFZP94",
        "outputId": "3d8ea8c6-042a-4201-9cfb-f082bb67cb96"
      },
      "execution_count": null,
      "outputs": [
        {
          "output_type": "stream",
          "name": "stderr",
          "text": [
            "/usr/local/lib/python3.8/dist-packages/sklearn/utils/deprecation.py:87: FutureWarning: Function plot_confusion_matrix is deprecated; Function `plot_confusion_matrix` is deprecated in 1.0 and will be removed in 1.2. Use one of the class methods: ConfusionMatrixDisplay.from_predictions or ConfusionMatrixDisplay.from_estimator.\n",
            "  warnings.warn(msg, category=FutureWarning)\n"
          ]
        },
        {
          "output_type": "execute_result",
          "data": {
            "text/plain": [
              "<sklearn.metrics._plot.confusion_matrix.ConfusionMatrixDisplay at 0x7fcb14d12610>"
            ]
          },
          "metadata": {},
          "execution_count": 16
        },
        {
          "output_type": "display_data",
          "data": {
            "text/plain": [
              "<Figure size 432x288 with 2 Axes>"
            ],
            "image/png": "[encoded data removed]"
          },
          "metadata": {
            "needs_background": "light"
          }
        }
      ]
    },
    {
      "cell_type": "code",
      "source": [
        "#SVM classifier\n",
        "from sklearn.svm import SVC\n",
        "clf = SVC(kernel='rbf', gamma=0.01, C=1000)\n",
        "clf.fit(XTrain, YTrain)\n",
        "predictions = clf.predict(XTest)\n",
        "accuracy_score(YTest, predictions)"
      ],
      "metadata": {
        "colab": {
          "base_uri": "https://localhost:8080/"
        },
        "id": "KLCrlwdPZzYZ",
        "outputId": "5ea7aeb1-f901-44a0-e52b-b51ebfcfeeae"
      },
      "execution_count": null,
      "outputs": [
        {
          "output_type": "execute_result",
          "data": {
            "text/plain": [
              "1.0"
            ]
          },
          "metadata": {},
          "execution_count": 17
        }
      ]
    },
    {
      "cell_type": "code",
      "source": [
        "confusion_matrix(YTest,predictions)"
      ],
      "metadata": {
        "colab": {
          "base_uri": "https://localhost:8080/"
        },
        "id": "l14SyTewapyV",
        "outputId": "fbe702cb-85ae-44c8-8203-0d6e722cfe82"
      },
      "execution_count": null,
      "outputs": [
        {
          "output_type": "execute_result",
          "data": {
            "text/plain": [
              "array([[744,   0,   0,   0,   0,   0,   0],\n",
              "       [  0, 710,   0,   0,   0,   0,   0],\n",
              "       [  0,   0, 655,   0,   0,   0,   0],\n",
              "       [  0,   0,   0, 692,   0,   0,   0],\n",
              "       [  0,   0,   0,   0, 743,   0,   0],\n",
              "       [  0,   0,   0,   0,   0, 666,   0],\n",
              "       [  0,   0,   0,   0,   0,   0, 755]])"
            ]
          },
          "metadata": {},
          "execution_count": 18
        }
      ]
    },
    {
      "cell_type": "code",
      "source": [
        "plot_confusion_matrix(clf,XTest,YTest)"
      ],
      "metadata": {
        "colab": {
          "base_uri": "https://localhost:8080/",
          "height": 351
        },
        "id": "zjWunsb3auhO",
        "outputId": "4e4e23dc-3754-46e8-bc69-70639b5a99f7"
      },
      "execution_count": null,
      "outputs": [
        {
          "output_type": "stream",
          "name": "stderr",
          "text": [
            "/usr/local/lib/python3.8/dist-packages/sklearn/utils/deprecation.py:87: FutureWarning: Function plot_confusion_matrix is deprecated; Function `plot_confusion_matrix` is deprecated in 1.0 and will be removed in 1.2. Use one of the class methods: ConfusionMatrixDisplay.from_predictions or ConfusionMatrixDisplay.from_estimator.\n",
            "  warnings.warn(msg, category=FutureWarning)\n"
          ]
        },
        {
          "output_type": "execute_result",
          "data": {
            "text/plain": [
              "<sklearn.metrics._plot.confusion_matrix.ConfusionMatrixDisplay at 0x7fcb0f6eee80>"
            ]
          },
          "metadata": {},
          "execution_count": 19
        },
        {
          "output_type": "display_data",
          "data": {
            "text/plain": [
              "<Figure size 432x288 with 2 Axes>"
            ],
            "image/png": "[encoded data removed]"
          },
          "metadata": {
            "needs_background": "light"
          }
        }
      ]
    }
  ]
}