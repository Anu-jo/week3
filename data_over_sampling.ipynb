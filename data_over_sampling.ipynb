{
  "cells": [
    {
      "cell_type": "markdown",
      "metadata": {
        "id": "view-in-github",
        "colab_type": "text"
      },
      "source": [
        "<a href=\"https://colab.research.google.com/github/Anu-jo/week3/blob/main/data_over_sampling.ipynb\" target=\"_parent\"><img src=\"https://colab.research.google.com/assets/colab-badge.svg\" alt=\"Open In Colab\"/></a>"
      ]
    },
    {
      "cell_type": "code",
      "execution_count": null,
      "metadata": {
        "colab": {
          "base_uri": "https://localhost:8080/"
        },
        "id": "EeGrX2HL23qt",
        "outputId": "773db183-f6f8-46c7-fdca-c974a1628940"
      },
      "outputs": [
        {
          "name": "stdout",
          "output_type": "stream",
          "text": [
            "Original dataset shape Counter({'DERMASON': 3546, 'SIRA': 2636, 'SEKER': 2027, 'HOROZ': 1928, 'CALI': 1630, 'BARBUNYA': 1322, 'BOMBAY': 522})\n",
            "Resample dataset shape Counter({'SEKER': 3546, 'BARBUNYA': 3546, 'BOMBAY': 3546, 'CALI': 3546, 'HOROZ': 3546, 'SIRA': 3546, 'DERMASON': 3546})\n",
            "[[-0.90014718 -1.21755861 -1.34951635 ... -0.40824829  2.44948974\n",
            "  -0.40824829]\n",
            " [-0.89281612 -1.12426241 -1.41600032 ... -0.40824829  2.44948974\n",
            "  -0.40824829]\n",
            " [-0.87884601 -1.17106025 -1.30913932 ... -0.40824829  2.44948974\n",
            "  -0.40824829]\n",
            " ...\n",
            " [-0.55379225 -0.62976596 -0.59098978 ... -0.40824829 -0.40824829\n",
            "   2.44948974]\n",
            " [-0.64565762 -0.67306439 -0.5451123  ... -0.40824829 -0.40824829\n",
            "   2.44948974]\n",
            " [-0.49769556 -0.50762657 -0.46097801 ... -0.40824829 -0.40824829\n",
            "   2.44948974]]\n"
          ]
        },
        {
          "name": "stderr",
          "output_type": "stream",
          "text": [
            "/usr/local/lib/python3.8/dist-packages/sklearn/utils/validation.py:1688: FutureWarning: Feature names only support names that are all strings. Got feature names with dtypes: ['str', 'tuple']. An error will be raised in 1.2.\n",
            "  warnings.warn(\n",
            "/usr/local/lib/python3.8/dist-packages/sklearn/utils/validation.py:1688: FutureWarning: Feature names only support names that are all strings. Got feature names with dtypes: ['str', 'tuple']. An error will be raised in 1.2.\n",
            "  warnings.warn(\n",
            "/usr/local/lib/python3.8/dist-packages/sklearn/utils/validation.py:1688: FutureWarning: Feature names only support names that are all strings. Got feature names with dtypes: ['str', 'tuple']. An error will be raised in 1.2.\n",
            "  warnings.warn(\n"
          ]
        }
      ],
      "source": [
        "import numpy as np\n",
        "import pandas as pd\n",
        "import seaborn as sns\n",
        "import matplotlib.pyplot as plt\n",
        "import imblearn\n",
        "import sklearn\n",
        "from imblearn.under_sampling import RandomUnderSampler\n",
        "from imblearn.over_sampling import RandomOverSampler\n",
        "from collections import Counter\n",
        "from imblearn.over_sampling import SMOTE\n",
        "#import category_encoders as ce\n",
        "from sklearn.decomposition import PCA\n",
        "from sklearn.discriminant_analysis import LinearDiscriminantAnalysis\n",
        "df=pd.read_csv('Dry_Bean_Dataset.csv')\n",
        "#data encoding\n",
        "from sklearn.preprocessing import OneHotEncoder\n",
        "oe_style = OneHotEncoder()\n",
        "oe_results = oe_style.fit_transform(df[[\"Class\"]])\n",
        "pd.DataFrame(oe_results.toarray(), columns=oe_style.categories_).head()\n",
        "df = df.join(pd.DataFrame(oe_results.toarray(), columns=oe_style.categories_))\n",
        "y = df['Class']#dependent variable\n",
        "X = df.drop(['Class'], axis = 1)#independent variable\n",
        "#over sampling\n",
        "ros = RandomOverSampler(random_state=42)\n",
        "# fit predictor and target variable\n",
        "x_ros, y_ros = ros.fit_resample(X, y)\n",
        "print('Original dataset shape', Counter(y))\n",
        "print('Resample dataset shape', Counter(y_ros))\n",
        "#data standardization\n",
        "from sklearn.preprocessing import StandardScaler\n",
        "object= StandardScaler()\n",
        " # standardization\n",
        "X_std = object.fit_transform(x_ros)\n",
        "print(X_std)\n"
      ]
    },
    {
      "cell_type": "code",
      "execution_count": null,
      "metadata": {
        "colab": {
          "base_uri": "https://localhost:8080/",
          "height": 368
        },
        "id": "ptwJEHqQDBug",
        "outputId": "c2c1f0cf-7fde-43b1-9a22-7ec6cfb3581a"
      },
      "outputs": [
        {
          "name": "stderr",
          "output_type": "stream",
          "text": [
            "/usr/local/lib/python3.8/dist-packages/seaborn/_decorators.py:36: FutureWarning: Pass the following variable as a keyword arg: x. From version 0.12, the only valid positional argument will be `data`, and passing other arguments without an explicit keyword will result in an error or misinterpretation.\n",
            "  warnings.warn(\n",
            "/usr/local/lib/python3.8/dist-packages/seaborn/_decorators.py:36: FutureWarning: Pass the following variable as a keyword arg: x. From version 0.12, the only valid positional argument will be `data`, and passing other arguments without an explicit keyword will result in an error or misinterpretation.\n",
            "  warnings.warn(\n"
          ]
        },
        {
          "data": {
            "image/png": "[encoded data removed]",
            "text/plain": [
              "<Figure size 432x288 with 1 Axes>"
            ]
          },
          "metadata": {},
          "output_type": "display_data"
        }
      ],
      "source": [
        "g = sns.countplot(df['Class'])\n",
        "g_os = sns.countplot(y_ros)\n",
        "g.set_xticklabels(['SEKER','BARBUNYA','BOMBAY','CALI','HOROZ','SIRA','DERMASON'])\n",
        "plt.show()"
      ]
    },
    {
      "cell_type": "code",
      "execution_count": null,
      "metadata": {
        "colab": {
          "base_uri": "https://localhost:8080/",
          "height": 383
        },
        "id": "Vu9ia827DHNU",
        "outputId": "1f00d291-c8fa-4510-c308-82a264486edb"
      },
      "outputs": [
        {
          "name": "stdout",
          "output_type": "stream",
          "text": [
            "[ 41.34655229  66.0156344   73.40252796  79.33441267  84.72392348\n",
            "  89.87361978  94.2998766   97.37685029  98.31349502  99.09554594\n",
            "  99.45448147  99.69495754  99.87020597  99.96319251  99.99187089\n",
            "  99.99622277  99.99859925  99.99941297  99.99993945  99.99998514\n",
            "  99.99999304 100.         100.        ]\n"
          ]
        },
        {
          "data": {
            "text/plain": [
              "Text(0, 0.5, 'Cumulative Explained variance(%)')"
            ]
          },
          "execution_count": 3,
          "metadata": {},
          "output_type": "execute_result"
        },
        {
          "data": {
            "image/png": "[encoded data removed]",
            "text/plain": [
              "<Figure size 432x288 with 1 Axes>"
            ]
          },
          "metadata": {},
          "output_type": "display_data"
        }
      ],
      "source": [
        "#dimensionality reduction using PCA\n",
        "from sklearn.model_selection import train_test_split# model for splitting the data\n",
        "# we split 80% of the data for model training and 30% accuracy model testing\n",
        "XTrain, XTest, YTrain, YTest = train_test_split(X_std, y_ros, test_size = 0.3, random_state = 100)\n",
        "#PCA calculation\n",
        "pca=PCA()\n",
        "XTrain_pca=pca.fit_transform(XTrain)\n",
        "XTest_pca=pca.transform(XTest)\n",
        "#print(pca.explained_variance_ratio_*100)\n",
        "cum_sum_pca=np.cumsum(pca.explained_variance_ratio_*100)\n",
        "print(cum_sum_pca)\n",
        "plt.plot(np.cumsum(pca.explained_variance_ratio_*100))\n",
        "plt.xlabel('Number of components')\n",
        "plt.ylabel('Cumulative Explained variance(%)')\n"
      ]
    },
    {
      "cell_type": "code",
      "execution_count": null,
      "metadata": {
        "colab": {
          "background_save": true
        },
        "id": "Kb0HHFyhkHcy",
        "outputId": "0daa4a0b-c209-479c-eaab-18d1bd39551a"
      },
      "outputs": [
        {
          "name": "stdout",
          "output_type": "stream",
          "text": [
            "[ 41.34655229  66.0156344   73.40252796  79.33441267  84.72392348\n",
            "  89.87361978  94.2998766   97.37685029  98.31349502  99.09554594\n",
            "  99.45448147  99.69495754  99.87020597  99.96319251  99.99187089\n",
            "  99.99622277  99.99859925  99.99941297  99.99993945  99.99998514\n",
            "  99.99999304 100.        ]\n"
          ]
        },
        {
          "data": {
            "text/plain": [
              "Text(0, 0.5, 'Cumulative Kernel pca Explained variance(%)')"
            ]
          },
          "execution_count": 5,
          "metadata": {},
          "output_type": "execute_result"
        },
        {
          "data": {
            "image/png": "[encoded data removed]",
            "text/plain": [
              "<Figure size 432x288 with 1 Axes>"
            ]
          },
          "metadata": {},
          "output_type": "display_data"
        }
      ],
      "source": [
        "# Import the Kernel PCA class\n",
        "from sklearn.decomposition import KernelPCA\n",
        "# initialize the Kernel PCA object\n",
        "Kernel_pca = KernelPCA()# finding the kernel pca value\n",
        "# transform and fit the feature of the training set\n",
        "XTrain_kernel = Kernel_pca.fit_transform(XTrain)\n",
        "# transform features of the test set\n",
        "XTest_kernel = Kernel_pca.transform(XTest)\n",
        "ex_var=np.var(XTrain_kernel,axis=0)\n",
        "explained_variance=ex_var/np.sum(ex_var)\n",
        "print(np.cumsum(explained_variance*100))\n",
        "plt.plot(np.cumsum(explained_variance*100))\n",
        "plt.xlabel('Number of components')\n",
        "plt.ylabel('Cumulative Kernel pca Explained variance(%)')"
      ]
    },
    {
      "cell_type": "code",
      "execution_count": null,
      "metadata": {
        "id": "VnEweKx1Dpo0"
      },
      "outputs": [],
      "source": [
        "#taking 95% of varaiance contributed components\n",
        "pca_95=PCA(n_components=0.95)\n",
        "X_pca_95=pca_95.fit_transform(X_std)\n",
        "print(X_pca_95.shape)\n",
        "#creating new dataset that is dimensionally reduced\n",
        "df_new=pd.DataFrame(X_pca_95,columns=['PC1','PC2','PC3','PC4'])\n",
        "df_new['Class']=y\n",
        "print(df_new.head())\n",
        "df_new.to_csv('Drybeans_95.csv',index=False)\n"
      ]
    },
    {
      "cell_type": "code",
      "execution_count": null,
      "metadata": {
        "id": "k2g6ekDjGcyG"
      },
      "outputs": [],
      "source": [
        "from sklearn.naive_bayes import GaussianNB\n",
        "\n",
        "#Calling the Class\n",
        "naive_bayes = GaussianNB()\n",
        "\n",
        "#Fitting the data to the classifier\n",
        "naive_bayes.fit(XTrain , YTrain)\n",
        "\n",
        "#Predict on test data\n",
        "y_predicted = naive_bayes.predict(XTest)"
      ]
    },
    {
      "cell_type": "code",
      "execution_count": null,
      "metadata": {
        "id": "A_oieZ1tG5Z2"
      },
      "outputs": [],
      "source": [
        "from sklearn.metrics import accuracy_score,confusion_matrix,plot_confusion_matrix\n",
        "print('Accuracy score:')\n",
        "accuracy_score=accuracy_score(y_predicted , YTest)\n",
        "accuracy_score\n",
        "#cm=confusion_matrix(y_test, y_predicted)\n",
        "plot_confusion_matrix(naive_bayes,YTest,y_predicted)\n"
      ]
    },
    {
      "cell_type": "code",
      "execution_count": null,
      "metadata": {
        "id": "nbJ6QPjaKcst"
      },
      "outputs": [],
      "source": [
        "#decision tree classifier\n",
        "from sklearn.tree import DecisionTreeClassifier\n",
        "clf_model = DecisionTreeClassifier(criterion=\"gini\", random_state=42,max_depth=3, min_samples_leaf=7)\n",
        "clf_model.fit(XTrain,YTrain)\n",
        "y_predict = clf_model.predict(XTest)\n",
        "from sklearn.metrics import accuracy_score,classification_report,confusion_matrix,plot_confusion_matrix\n",
        "accuracy_score(YTest,y_predict)\n",
        "plot_confusion_matrix(clf_model,YTest,y_predict)"
      ]
    }
  ],
  "metadata": {
    "colab": {
      "provenance": [],
      "include_colab_link": true
    },
    "kernelspec": {
      "display_name": "Python 3",
      "name": "python3"
    },
    "language_info": {
      "name": "python"
    }
  },
  "nbformat": 4,
  "nbformat_minor": 0
}