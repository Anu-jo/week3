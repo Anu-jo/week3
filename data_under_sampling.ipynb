{
  "nbformat": 4,
  "nbformat_minor": 0,
  "metadata": {
    "colab": {
      "provenance": [],
      "include_colab_link": true
    },
    "kernelspec": {
      "name": "python3",
      "display_name": "Python 3"
    },
    "language_info": {
      "name": "python"
    }
  },
  "cells": [
    {
      "cell_type": "markdown",
      "metadata": {
        "id": "view-in-github",
        "colab_type": "text"
      },
      "source": [
        "<a href=\"https://colab.research.google.com/github/Anu-jo/week3/blob/main/data_under_sampling.ipynb\" target=\"_parent\"><img src=\"https://colab.research.google.com/assets/colab-badge.svg\" alt=\"Open In Colab\"/></a>"
      ]
    },
    {
      "cell_type": "code",
      "execution_count": null,
      "metadata": {
        "colab": {
          "base_uri": "https://localhost:8080/",
          "height": 854
        },
        "id": "JZzW7t1AoR9D",
        "outputId": "edc52806-bed8-475c-db68-5ef21fbdfc03"
      },
      "outputs": [
        {
          "output_type": "stream",
          "name": "stdout",
          "text": [
            "    Area  Perimeter  MajorAxisLength  MinorAxisLength  AspectRation  \\\n",
            "0  28395    610.291       208.178117       173.888747      1.197191   \n",
            "1  28734    638.018       200.524796       182.734419      1.097356   \n",
            "2  29380    624.110       212.826130       175.931143      1.209713   \n",
            "3  30008    645.884       210.557999       182.516516      1.153638   \n",
            "4  30140    620.134       201.847882       190.279279      1.060798   \n",
            "\n",
            "   Eccentricity  ConvexArea  EquivDiameter    Extent  Solidity  roundness  \\\n",
            "0      0.549812       28715     190.141097  0.763923  0.988856   0.958027   \n",
            "1      0.411785       29172     191.272750  0.783968  0.984986   0.887034   \n",
            "2      0.562727       29690     193.410904  0.778113  0.989559   0.947849   \n",
            "3      0.498616       30724     195.467062  0.782681  0.976696   0.903936   \n",
            "4      0.333680       30417     195.896503  0.773098  0.990893   0.984877   \n",
            "\n",
            "   Compactness  ShapeFactor1  ShapeFactor2  ShapeFactor3  ShapeFactor4  Class  \n",
            "0     0.913358      0.007332      0.003147      0.834222      0.998724  SEKER  \n",
            "1     0.953861      0.006979      0.003564      0.909851      0.998430  SEKER  \n",
            "2     0.908774      0.007244      0.003048      0.825871      0.999066  SEKER  \n",
            "3     0.928329      0.007017      0.003215      0.861794      0.994199  SEKER  \n",
            "4     0.970516      0.006697      0.003665      0.941900      0.999166  SEKER  \n",
            "\n",
            "\n",
            " DERMASON    3546\n",
            "SIRA        2636\n",
            "SEKER       2027\n",
            "HOROZ       1928\n",
            "CALI        1630\n",
            "BARBUNYA    1322\n",
            "BOMBAY       522\n",
            "Name: Class, dtype: int64\n"
          ]
        },
        {
          "output_type": "stream",
          "name": "stderr",
          "text": [
            "/usr/local/lib/python3.8/dist-packages/seaborn/_decorators.py:36: FutureWarning: Pass the following variable as a keyword arg: x. From version 0.12, the only valid positional argument will be `data`, and passing other arguments without an explicit keyword will result in an error or misinterpretation.\n",
            "  warnings.warn(\n"
          ]
        },
        {
          "output_type": "display_data",
          "data": {
            "text/plain": [
              "<Figure size 432x288 with 1 Axes>"
            ],
            "image/png": "[encoded data removed]"
          },
          "metadata": {
            "needs_background": "light"
          }
        }
      ],
      "source": [
        "import numpy as np\n",
        "import pandas as pd\n",
        "import seaborn as sns\n",
        "import matplotlib.pyplot as plt\n",
        "import imblearn\n",
        "import sklearn\n",
        "from imblearn.under_sampling import RandomUnderSampler\n",
        "from collections import Counter\n",
        "from sklearn.decomposition import PCA\n",
        "from sklearn.discriminant_analysis import LinearDiscriminantAnalysis\n",
        "df=pd.read_csv('Dry_Bean_Dataset.csv')\n",
        "print(df.head())\n",
        "#data encoding\n",
        "from sklearn.preprocessing import OneHotEncoder\n",
        "oe_style = OneHotEncoder()\n",
        "oe_results = oe_style.fit_transform(df[[\"Class\"]])\n",
        "pd.DataFrame(oe_results.toarray(), columns=oe_style.categories_).head()\n",
        "df = df.join(pd.DataFrame(oe_results.toarray(), columns=oe_style.categories_))\n",
        "y = df['Class']#dependent variable\n",
        "X = df.drop(['Class'], axis = 1)#independent variable\n",
        "#checking whether data is balanced or not\n",
        "print(\"\\n\\n\",df['Class'].value_counts())\n",
        "g = sns.countplot(df['Class'])\n",
        "g.set_xticklabels(['SEKER','BARBUNYA','BOMBAY','CALI','HOROZ','SIRA','DERMASON'])\n",
        "plt.show()\n"
      ]
    },
    {
      "cell_type": "code",
      "source": [
        "#Under sampling\n",
        "rus = RandomUnderSampler(random_state=42, replacement=True)\n",
        "# fit predictor and target variable\n",
        "x_rus, y_rus = rus.fit_resample(X, y)\n",
        "print('original dataset shape:', Counter(y))\n",
        "print('Resample dataset shape', Counter(y_rus))\n",
        "#data standardization\n",
        "from sklearn.preprocessing import StandardScaler\n",
        "object= StandardScaler()\n",
        " # standardization\n",
        "X_std = object.fit_transform(x_rus)\n",
        "print(X_std)\n",
        "# check missing values\n",
        "print(df.isnull().any().any())\n",
        "#remove features with low variance\n",
        "from sklearn import feature_selection\n",
        "sel = feature_selection.VarianceThreshold()\n",
        "train_variance = sel.fit_transform(X_std)\n",
        "print(train_variance.shape)"
      ],
      "metadata": {
        "colab": {
          "base_uri": "https://localhost:8080/"
        },
        "id": "XxwIufz--BP1",
        "outputId": "9c8c3612-173a-4b16-dee9-2e1e4b8fae2a"
      },
      "execution_count": null,
      "outputs": [
        {
          "output_type": "stream",
          "name": "stdout",
          "text": [
            "original dataset shape: Counter({'DERMASON': 3546, 'SIRA': 2636, 'SEKER': 2027, 'HOROZ': 1928, 'CALI': 1630, 'BARBUNYA': 1322, 'BOMBAY': 522})\n",
            "Resample dataset shape Counter({'BARBUNYA': 522, 'BOMBAY': 522, 'CALI': 522, 'DERMASON': 522, 'HOROZ': 522, 'SEKER': 522, 'SIRA': 522})\n",
            "[[ 0.21920582  0.35889428  0.05356832 ... -0.40824829 -0.40824829\n",
            "  -0.40824829]\n",
            " [ 0.06642863  0.21892553 -0.05730606 ... -0.40824829 -0.40824829\n",
            "  -0.40824829]\n",
            " [ 0.46896576  0.93975633  0.72300027 ... -0.40824829 -0.40824829\n",
            "  -0.40824829]\n",
            " ...\n",
            " [-0.53402983 -0.5877632  -0.53469042 ... -0.40824829 -0.40824829\n",
            "   2.44948974]\n",
            " [-0.63935893 -0.64711403 -0.64656132 ... -0.40824829 -0.40824829\n",
            "   2.44948974]\n",
            " [-0.52744405 -0.60705981 -0.61343511 ... -0.40824829 -0.40824829\n",
            "   2.44948974]]\n",
            "False\n",
            "(3654, 23)\n"
          ]
        },
        {
          "output_type": "stream",
          "name": "stderr",
          "text": [
            "/usr/local/lib/python3.8/dist-packages/sklearn/utils/validation.py:1688: FutureWarning: Feature names only support names that are all strings. Got feature names with dtypes: ['str', 'tuple']. An error will be raised in 1.2.\n",
            "  warnings.warn(\n",
            "/usr/local/lib/python3.8/dist-packages/sklearn/utils/validation.py:1688: FutureWarning: Feature names only support names that are all strings. Got feature names with dtypes: ['str', 'tuple']. An error will be raised in 1.2.\n",
            "  warnings.warn(\n",
            "/usr/local/lib/python3.8/dist-packages/sklearn/utils/validation.py:1688: FutureWarning: Feature names only support names that are all strings. Got feature names with dtypes: ['str', 'tuple']. An error will be raised in 1.2.\n",
            "  warnings.warn(\n"
          ]
        }
      ]
    },
    {
      "cell_type": "code",
      "source": [
        "g_us = sns.countplot(y_rus)\n",
        "g.set_xticklabels(['SEKER','BARBUNYA','BOMBAY','CALI','HOROZ','SIRA','DERMASON'])\n",
        "plt.show()"
      ],
      "metadata": {
        "colab": {
          "base_uri": "https://localhost:8080/",
          "height": 334
        },
        "id": "7laKqkaGGJBH",
        "outputId": "e3cd9820-7813-400d-ed7b-07c7c5ed9a53"
      },
      "execution_count": null,
      "outputs": [
        {
          "output_type": "stream",
          "name": "stderr",
          "text": [
            "/usr/local/lib/python3.8/dist-packages/seaborn/_decorators.py:36: FutureWarning: Pass the following variable as a keyword arg: x. From version 0.12, the only valid positional argument will be `data`, and passing other arguments without an explicit keyword will result in an error or misinterpretation.\n",
            "  warnings.warn(\n"
          ]
        },
        {
          "output_type": "display_data",
          "data": {
            "text/plain": [
              "<Figure size 432x288 with 1 Axes>"
            ],
            "image/png": "[encoded data removed]"
          },
          "metadata": {
            "needs_background": "light"
          }
        }
      ]
    },
    {
      "cell_type": "code",
      "source": [
        "lda = LinearDiscriminantAnalysis()\n",
        "X_lda = lda.fit_transform(X, y)\n",
        "X_lda"
      ],
      "metadata": {
        "colab": {
          "base_uri": "https://localhost:8080/"
        },
        "id": "5HNEhpWTcdPP",
        "outputId": "33ae3611-a404-4f65-99b0-8091a602c54a"
      },
      "execution_count": null,
      "outputs": [
        {
          "output_type": "stream",
          "name": "stderr",
          "text": [
            "/usr/local/lib/python3.8/dist-packages/sklearn/utils/validation.py:1688: FutureWarning: Feature names only support names that are all strings. Got feature names with dtypes: ['str', 'tuple']. An error will be raised in 1.2.\n",
            "  warnings.warn(\n",
            "/usr/local/lib/python3.8/dist-packages/sklearn/utils/validation.py:1688: FutureWarning: Feature names only support names that are all strings. Got feature names with dtypes: ['str', 'tuple']. An error will be raised in 1.2.\n",
            "  warnings.warn(\n"
          ]
        },
        {
          "output_type": "execute_result",
          "data": {
            "text/plain": [
              "array([[ 2.64931865, -2.28669012,  2.17033366, -2.72244854, -1.03923035,\n",
              "        -2.3974093 ],\n",
              "       [ 1.33428765, -1.05963799,  3.68575463, -1.69811644, -1.75172933,\n",
              "        -1.056052  ],\n",
              "       [ 2.66334205, -2.21976529,  2.36580382, -2.5404499 , -0.76526182,\n",
              "        -2.02995891],\n",
              "       ...,\n",
              "       [ 2.09475456, -1.2618103 , -0.5082351 ,  0.61563482, -0.28994781,\n",
              "         1.30430414],\n",
              "       [ 1.99774574, -1.03158541, -0.79092497,  0.72565945, -0.26821312,\n",
              "         1.4137352 ],\n",
              "       [ 1.76692639, -0.15962229, -1.20314046,  0.74654948, -0.15932636,\n",
              "         1.22705777]])"
            ]
          },
          "metadata": {},
          "execution_count": 41
        }
      ]
    },
    {
      "cell_type": "code",
      "source": [
        "#dimensionality reduction using PCA\n",
        "from sklearn.model_selection import train_test_split# model for splitting the data\n",
        "# we split 80% of the data for model training and 20% accuracy model testing\n",
        "XTrain, XTest, YTrain, YTest = train_test_split(X_std, y_rus, test_size = 0.2, random_state = 100)\n",
        "#PCA calculation\n",
        "pca=PCA()\n",
        "XTrain_pca=pca.fit_transform(XTrain)\n",
        "XTest_pca=pca.transform(XTest)\n",
        "#print(pca.explained_variance_ratio_*100)\n",
        "cum_sum_pca=np.cumsum(pca.explained_variance_ratio_*100)\n",
        "print(cum_sum_pca)\n",
        "plt.plot(np.cumsum(pca.explained_variance_ratio_*100))\n",
        "plt.xlabel('Number of components')\n",
        "plt.ylabel('Cumulative Explained variance(%)')\n"
      ],
      "metadata": {
        "colab": {
          "base_uri": "https://localhost:8080/",
          "height": 383
        },
        "id": "7zBWbfDnyOPN",
        "outputId": "abc4a496-5865-4558-bff0-0e9b650312f7"
      },
      "execution_count": null,
      "outputs": [
        {
          "output_type": "stream",
          "name": "stdout",
          "text": [
            "[ 41.56175922  65.8849523   73.23146435  78.94272949  84.39511625\n",
            "  89.75152785  94.12217742  97.18504175  98.23389936  99.07111603\n",
            "  99.43900482  99.68774546  99.86905358  99.96333887  99.99179932\n",
            "  99.99600254  99.99849514  99.99937514  99.99993731  99.99998617\n",
            "  99.99999374 100.         100.        ]\n"
          ]
        },
        {
          "output_type": "execute_result",
          "data": {
            "text/plain": [
              "Text(0, 0.5, 'Cumulative Explained variance(%)')"
            ]
          },
          "metadata": {},
          "execution_count": 42
        },
        {
          "output_type": "display_data",
          "data": {
            "text/plain": [
              "<Figure size 432x288 with 1 Axes>"
            ],
            "image/png": "[encoded data removed]"
          },
          "metadata": {
            "needs_background": "light"
          }
        }
      ]
    },
    {
      "cell_type": "code",
      "source": [
        "# Import the Kernel PCA class\n",
        "from sklearn.decomposition import KernelPCA\n",
        "# initialize the Kernel PCA object\n",
        "Kernel_pca = KernelPCA()# finding the kernel pca value\n",
        "# transform and fit the feature of the training set\n",
        "XTrain_kernel = Kernel_pca.fit_transform(XTrain)\n",
        "# transform features of the test set\n",
        "XTest_kernel = Kernel_pca.transform(XTest)\n",
        "ex_var=np.var(XTrain_kernel,axis=0)\n",
        "explained_variance=ex_var/np.sum(ex_var)\n",
        "print(np.cumsum(explained_variance*100))\n",
        "plt.plot(np.cumsum(explained_variance*100))\n",
        "plt.xlabel('Number of components')\n",
        "plt.ylabel('Cumulative Kernel pca Explained variance(%)')"
      ],
      "metadata": {
        "colab": {
          "base_uri": "https://localhost:8080/",
          "height": 389
        },
        "id": "DBuPc7VvI3LM",
        "outputId": "4057b43a-8532-41cd-fd1b-080d55ac2ca2"
      },
      "execution_count": null,
      "outputs": [
        {
          "output_type": "stream",
          "name": "stdout",
          "text": [
            "[ 41.56175922  65.8849523   73.23146435  78.94272949  84.39511625\n",
            "  89.75152785  94.12217742  97.18504175  98.23389936  99.07111603\n",
            "  99.43900482  99.68774546  99.86905358  99.96333887  99.99179932\n",
            "  99.99600254  99.99849514  99.99937514  99.99993731  99.99998617\n",
            "  99.99999374 100.        ]\n"
          ]
        },
        {
          "output_type": "execute_result",
          "data": {
            "text/plain": [
              "Text(0, 0.5, 'Cumulative Kernel pca Explained variance(%)')"
            ]
          },
          "metadata": {},
          "execution_count": 43
        },
        {
          "output_type": "display_data",
          "data": {
            "text/plain": [
              "<Figure size 432x288 with 1 Axes>"
            ],
            "image/png": "[encoded data removed]"
          },
          "metadata": {
            "needs_background": "light"
          }
        }
      ]
    },
    {
      "cell_type": "code",
      "source": [
        "#taking 95% of varaiance contributed components\n",
        "pca_95=PCA(n_components=0.95)\n",
        "X_pca_95=pca_95.fit_transform(X_std)\n",
        "print(X_pca_95.shape)\n",
        "#creating new dataset that is dimensionally reduced\n",
        "df_new=pd.DataFrame(X_pca_95,columns=['PC1','PC2','PC3','PC4','PC5','PC6','PC7','PC8'])\n",
        "df_new['Class']=y_rus\n",
        "print(df_new.head())\n",
        "#df_new.to_csv('Drybeans_95.csv',index=False)\n",
        "y_new = df_new['Class']#dependent variable\n",
        "X_new = df_new.drop(['Class'], axis = 1)#independent variable\n"
      ],
      "metadata": {
        "colab": {
          "base_uri": "https://localhost:8080/"
        },
        "id": "wHcUsM7TcBPv",
        "outputId": "aecaad19-191f-45ff-8f81-3174de800add"
      },
      "execution_count": null,
      "outputs": [
        {
          "output_type": "stream",
          "name": "stdout",
          "text": [
            "(3654, 8)\n",
            "        PC1       PC2       PC3       PC4       PC5       PC6       PC7  \\\n",
            "0 -0.041487 -2.354025  2.297594 -0.377272 -0.933082 -0.219978 -0.847115   \n",
            "1 -0.154463 -1.761026  2.526436 -0.355575 -0.900068 -0.146678 -0.622507   \n",
            "2  2.417881  0.725987  2.633448 -1.462603 -0.892735 -0.227022 -1.023523   \n",
            "3  0.632139 -1.209825  3.196267 -0.878511 -0.922373 -0.123305 -0.609941   \n",
            "4  1.446450  0.478727  1.403593 -0.943711 -1.105723 -0.374729 -1.566303   \n",
            "\n",
            "        PC8     Class  \n",
            "0  0.898650  BARBUNYA  \n",
            "1  0.751700  BARBUNYA  \n",
            "2 -0.962167  BARBUNYA  \n",
            "3 -0.007692  BARBUNYA  \n",
            "4  0.264376  BARBUNYA  \n"
          ]
        }
      ]
    },
    {
      "cell_type": "code",
      "source": [
        "from sklearn.preprocessing import OneHotEncoder\n",
        "oe_style = OneHotEncoder()\n",
        "oe_results = oe_style.fit_transform(df_new[[\"Class\"]])\n",
        "pd.DataFrame(oe_results.toarray(), columns=oe_style.categories_).head()\n",
        "df_new = df_new.join(pd.DataFrame(oe_results.toarray(), columns=oe_style.categories_))"
      ],
      "metadata": {
        "id": "E9mM2gk8-Ag5"
      },
      "execution_count": null,
      "outputs": []
    },
    {
      "cell_type": "code",
      "source": [
        " # standardization\n",
        "X_std = object.fit_transform(X_new)\n",
        "print(X_std)"
      ],
      "metadata": {
        "colab": {
          "base_uri": "https://localhost:8080/"
        },
        "id": "jcWVRAo6-2wV",
        "outputId": "a1a0f8a9-9424-4be2-d275-a33683240df1"
      },
      "execution_count": null,
      "outputs": [
        {
          "output_type": "stream",
          "name": "stdout",
          "text": [
            "[[-0.01345332 -0.99115666  1.76370189 ... -0.20057168 -0.84197711\n",
            "   1.07133454]\n",
            " [-0.05008865 -0.74147564  1.93936793 ... -0.13373874 -0.61873093\n",
            "   0.89614632]\n",
            " [ 0.7840617   0.30567527  2.021514   ... -0.20699405 -1.01731435\n",
            "  -1.14705587]\n",
            " ...\n",
            " [-0.53574118  0.12162926 -1.01734618 ... -1.87612308  0.31883353\n",
            "   0.77903672]\n",
            " [-0.39959863  0.74138275  0.19385066 ... -1.42029521  2.06029649\n",
            "  -0.97716413]\n",
            " [-0.66189334 -0.10135525 -0.77626608 ... -1.78959143  0.77571856\n",
            "  -0.22025404]]\n"
          ]
        }
      ]
    },
    {
      "cell_type": "code",
      "source": [
        "from sklearn.model_selection import train_test_split# model for splitting the data\n",
        "# we split 80% of the data for model training and 20% accuracy model testing\n",
        "XTrain, XTest, YTrain, YTest = train_test_split(X_std, y_new, test_size = 0.2, random_state = 100)"
      ],
      "metadata": {
        "id": "soArJPpy_SWO"
      },
      "execution_count": null,
      "outputs": []
    },
    {
      "cell_type": "code",
      "source": [
        "from sklearn.naive_bayes import GaussianNB\n",
        "\n",
        "#Calling the Class\n",
        "naive_bayes = GaussianNB()\n",
        "\n",
        "#Fitting the data to the classifier\n",
        "naive_bayes.fit(XTrain , YTrain)\n",
        "\n",
        "#Predict on test data\n",
        "y_predicted = naive_bayes.predict(XTest)"
      ],
      "metadata": {
        "id": "RB3VhQ9aGUis"
      },
      "execution_count": null,
      "outputs": []
    },
    {
      "cell_type": "code",
      "source": [
        "from sklearn.metrics import accuracy_score,confusion_matrix,plot_confusion_matrix\n",
        "print('Accuracy score:')\n",
        "acc_score=accuracy_score(y_predicted , YTest)\n",
        "acc_score\n"
      ],
      "metadata": {
        "colab": {
          "base_uri": "https://localhost:8080/"
        },
        "id": "lihCIkpfG3iq",
        "outputId": "45886f89-74f0-47d3-932e-ac4126cc6d6a"
      },
      "execution_count": null,
      "outputs": [
        {
          "output_type": "stream",
          "name": "stdout",
          "text": [
            "Accuracy score:\n"
          ]
        },
        {
          "output_type": "execute_result",
          "data": {
            "text/plain": [
              "0.9931600547195623"
            ]
          },
          "metadata": {},
          "execution_count": 49
        }
      ]
    },
    {
      "cell_type": "code",
      "source": [
        "cm=confusion_matrix(YTest, y_predicted)\n",
        "cm\n",
        "plot_confusion_matrix(naive_bayes,XTest,YTest)"
      ],
      "metadata": {
        "colab": {
          "base_uri": "https://localhost:8080/",
          "height": 351
        },
        "id": "r2pQC69_KPoL",
        "outputId": "d44b4d89-e758-49d5-9f80-ebdf9555eaa8"
      },
      "execution_count": null,
      "outputs": [
        {
          "output_type": "stream",
          "name": "stderr",
          "text": [
            "/usr/local/lib/python3.8/dist-packages/sklearn/utils/deprecation.py:87: FutureWarning: Function plot_confusion_matrix is deprecated; Function `plot_confusion_matrix` is deprecated in 1.0 and will be removed in 1.2. Use one of the class methods: ConfusionMatrixDisplay.from_predictions or ConfusionMatrixDisplay.from_estimator.\n",
            "  warnings.warn(msg, category=FutureWarning)\n"
          ]
        },
        {
          "output_type": "execute_result",
          "data": {
            "text/plain": [
              "<sklearn.metrics._plot.confusion_matrix.ConfusionMatrixDisplay at 0x7f35f8b503d0>"
            ]
          },
          "metadata": {},
          "execution_count": 50
        },
        {
          "output_type": "display_data",
          "data": {
            "text/plain": [
              "<Figure size 432x288 with 2 Axes>"
            ],
            "image/png": "[encoded data removed]"
          },
          "metadata": {
            "needs_background": "light"
          }
        }
      ]
    },
    {
      "cell_type": "code",
      "source": [
        "#decision tree classifier\n",
        "from sklearn.tree import DecisionTreeClassifier\n",
        "clf_model = DecisionTreeClassifier(criterion=\"entropy\", random_state=100,max_depth=3, min_samples_leaf=7)\n",
        "clf_model.fit(XTrain,YTrain)\n",
        "y_predict = clf_model.predict(XTest)\n",
        "from sklearn.metrics import accuracy_score,classification_report,confusion_matrix,plot_confusion_matrix\n",
        "accuracy_score(YTest,y_predict)\n",
        "\n",
        "#plot_confusion_matrix(clf_model,YTest,y_predict)"
      ],
      "metadata": {
        "colab": {
          "base_uri": "https://localhost:8080/"
        },
        "id": "Z9oKbLHQKXPb",
        "outputId": "2396f5b5-459c-464d-9efe-f4b180c9727f"
      },
      "execution_count": null,
      "outputs": [
        {
          "output_type": "execute_result",
          "data": {
            "text/plain": [
              "0.9808481532147743"
            ]
          },
          "metadata": {},
          "execution_count": 51
        }
      ]
    },
    {
      "cell_type": "code",
      "source": [
        "confusion_matrix(YTest, y_predict)\n",
        "plot_confusion_matrix(clf_model,XTest,YTest)"
      ],
      "metadata": {
        "colab": {
          "base_uri": "https://localhost:8080/",
          "height": 351
        },
        "id": "HvYZYQkjXsEV",
        "outputId": "c01e7bea-fea1-41b2-9a9b-a7f748840995"
      },
      "execution_count": null,
      "outputs": [
        {
          "output_type": "stream",
          "name": "stderr",
          "text": [
            "/usr/local/lib/python3.8/dist-packages/sklearn/utils/deprecation.py:87: FutureWarning: Function plot_confusion_matrix is deprecated; Function `plot_confusion_matrix` is deprecated in 1.0 and will be removed in 1.2. Use one of the class methods: ConfusionMatrixDisplay.from_predictions or ConfusionMatrixDisplay.from_estimator.\n",
            "  warnings.warn(msg, category=FutureWarning)\n"
          ]
        },
        {
          "output_type": "execute_result",
          "data": {
            "text/plain": [
              "<sklearn.metrics._plot.confusion_matrix.ConfusionMatrixDisplay at 0x7f35f8cf5340>"
            ]
          },
          "metadata": {},
          "execution_count": 52
        },
        {
          "output_type": "display_data",
          "data": {
            "text/plain": [
              "<Figure size 432x288 with 2 Axes>"
            ],
            "image/png": "[encoded data removed]"
          },
          "metadata": {
            "needs_background": "light"
          }
        }
      ]
    },
    {
      "cell_type": "code",
      "source": [
        "#SVM classifier\n",
        "from sklearn.svm import SVC\n",
        "clf = SVC(kernel='rbf', gamma=0.01, C=1000)\n",
        "clf.fit(XTrain, YTrain)\n",
        "predictions = clf.predict(XTest)\n",
        "accuracy_score(YTest, predictions)\n"
      ],
      "metadata": {
        "colab": {
          "base_uri": "https://localhost:8080/"
        },
        "id": "BZ2JQlb3NhXa",
        "outputId": "fd5eccde-b7f3-4d72-eda0-fa8c6691e2d3"
      },
      "execution_count": null,
      "outputs": [
        {
          "output_type": "execute_result",
          "data": {
            "text/plain": [
              "1.0"
            ]
          },
          "metadata": {},
          "execution_count": 53
        }
      ]
    },
    {
      "cell_type": "code",
      "source": [
        "confusion_matrix(YTest,predictions)"
      ],
      "metadata": {
        "colab": {
          "base_uri": "https://localhost:8080/"
        },
        "id": "cIU9GbJTT18c",
        "outputId": "579ca330-86cd-4999-c05f-cc0810cfc4a9"
      },
      "execution_count": null,
      "outputs": [
        {
          "output_type": "execute_result",
          "data": {
            "text/plain": [
              "array([[107,   0,   0,   0,   0,   0,   0],\n",
              "       [  0, 113,   0,   0,   0,   0,   0],\n",
              "       [  0,   0, 115,   0,   0,   0,   0],\n",
              "       [  0,   0,   0,  89,   0,   0,   0],\n",
              "       [  0,   0,   0,   0, 110,   0,   0],\n",
              "       [  0,   0,   0,   0,   0, 101,   0],\n",
              "       [  0,   0,   0,   0,   0,   0,  96]])"
            ]
          },
          "metadata": {},
          "execution_count": 54
        }
      ]
    },
    {
      "cell_type": "code",
      "source": [
        "plot_confusion_matrix(clf,XTest,YTest)"
      ],
      "metadata": {
        "colab": {
          "base_uri": "https://localhost:8080/",
          "height": 351
        },
        "id": "UuZ6xOQDT_k_",
        "outputId": "cb08e0a6-d7b8-4337-f17a-d879a051aea9"
      },
      "execution_count": null,
      "outputs": [
        {
          "output_type": "stream",
          "name": "stderr",
          "text": [
            "/usr/local/lib/python3.8/dist-packages/sklearn/utils/deprecation.py:87: FutureWarning: Function plot_confusion_matrix is deprecated; Function `plot_confusion_matrix` is deprecated in 1.0 and will be removed in 1.2. Use one of the class methods: ConfusionMatrixDisplay.from_predictions or ConfusionMatrixDisplay.from_estimator.\n",
            "  warnings.warn(msg, category=FutureWarning)\n"
          ]
        },
        {
          "output_type": "execute_result",
          "data": {
            "text/plain": [
              "<sklearn.metrics._plot.confusion_matrix.ConfusionMatrixDisplay at 0x7f36301965e0>"
            ]
          },
          "metadata": {},
          "execution_count": 55
        },
        {
          "output_type": "display_data",
          "data": {
            "text/plain": [
              "<Figure size 432x288 with 2 Axes>"
            ],
            "image/png": "[encoded data removed]"
          },
          "metadata": {
            "needs_background": "light"
          }
        }
      ]
    }
  ]
}