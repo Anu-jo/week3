{
  "nbformat": 4,
  "nbformat_minor": 0,
  "metadata": {
    "colab": {
      "provenance": [],
      "include_colab_link": true
    },
    "kernelspec": {
      "name": "python3",
      "display_name": "Python 3"
    },
    "language_info": {
      "name": "python"
    }
  },
  "cells": [
    {
      "cell_type": "markdown",
      "metadata": {
        "id": "view-in-github",
        "colab_type": "text"
      },
      "source": [
        "<a href=\"https://colab.research.google.com/github/Anu-jo/week3/blob/main/data_oversampling.ipynb\" target=\"_parent\"><img src=\"https://colab.research.google.com/assets/colab-badge.svg\" alt=\"Open In Colab\"/></a>"
      ]
    },
    {
      "cell_type": "code",
      "execution_count": null,
      "metadata": {
        "id": "PF6wmQvQGohb"
      },
      "outputs": [],
      "source": [
        "import numpy as np\n",
        "import pandas as pd\n",
        "import seaborn as sns\n",
        "import matplotlib.pyplot as plt\n",
        "import imblearn\n",
        "import sklearn\n",
        "from imblearn.under_sampling import RandomUnderSampler\n",
        "from imblearn.over_sampling import RandomOverSampler\n",
        "from collections import Counter\n",
        "from imblearn.over_sampling import SMOTE\n",
        "from sklearn.decomposition import PCA\n",
        "from sklearn.discriminant_analysis import LinearDiscriminantAnalysis\n",
        "df=pd.read_csv('Dry_Bean_Dataset.csv')\n",
        "#data encoding\n",
        "from sklearn.preprocessing import OneHotEncoder\n",
        "oe_style = OneHotEncoder()\n"
      ]
    },
    {
      "cell_type": "code",
      "source": [
        "oe_results = oe_style.fit_transform(df[[\"Class\"]])\n",
        "pd.DataFrame(oe_results.toarray(), columns=oe_style.categories_).head()\n",
        "df = df.join(pd.DataFrame(oe_results.toarray(), columns=oe_style.categories_))\n"
      ],
      "metadata": {
        "id": "ihbeld_v7jFD"
      },
      "execution_count": null,
      "outputs": []
    },
    {
      "cell_type": "code",
      "source": [
        "y = df['Class']#dependent variable\n",
        "X = df.drop(['Class'], axis = 1)#independent variable\n",
        "#over sampling\n",
        "ros = RandomOverSampler(random_state=42)\n",
        "# fit predictor and target variable\n",
        "x_ros, y_ros = ros.fit_resample(X, y)\n",
        "print('Original dataset shape', Counter(y))\n",
        "print('Resample dataset shape', Counter(y_ros))\n",
        "#data standardization\n",
        "from sklearn.preprocessing import StandardScaler\n",
        "object= StandardScaler()\n",
        " # standardization\n",
        "X_std = object.fit_transform(x_ros)\n",
        "print(X_std)\n"
      ],
      "metadata": {
        "colab": {
          "base_uri": "https://localhost:8080/"
        },
        "id": "uQMeUlgY7aZt",
        "outputId": "54e67259-6e7d-4c75-8a7d-6b6438ad7cf6"
      },
      "execution_count": null,
      "outputs": [
        {
          "output_type": "stream",
          "name": "stdout",
          "text": [
            "Original dataset shape Counter({'DERMASON': 3546, 'SIRA': 2636, 'SEKER': 2027, 'HOROZ': 1928, 'CALI': 1630, 'BARBUNYA': 1322, 'BOMBAY': 522})\n",
            "Resample dataset shape Counter({'SEKER': 3546, 'BARBUNYA': 3546, 'BOMBAY': 3546, 'CALI': 3546, 'HOROZ': 3546, 'SIRA': 3546, 'DERMASON': 3546})\n",
            "[[-0.90014718 -1.21755861 -1.34951635 ... -0.40824829  2.44948974\n",
            "  -0.40824829]\n",
            " [-0.89281612 -1.12426241 -1.41600032 ... -0.40824829  2.44948974\n",
            "  -0.40824829]\n",
            " [-0.87884601 -1.17106025 -1.30913932 ... -0.40824829  2.44948974\n",
            "  -0.40824829]\n",
            " ...\n",
            " [-0.55379225 -0.62976596 -0.59098978 ... -0.40824829 -0.40824829\n",
            "   2.44948974]\n",
            " [-0.64565762 -0.67306439 -0.5451123  ... -0.40824829 -0.40824829\n",
            "   2.44948974]\n",
            " [-0.49769556 -0.50762657 -0.46097801 ... -0.40824829 -0.40824829\n",
            "   2.44948974]]\n"
          ]
        },
        {
          "output_type": "stream",
          "name": "stderr",
          "text": [
            "/usr/local/lib/python3.8/dist-packages/sklearn/utils/validation.py:1688: FutureWarning: Feature names only support names that are all strings. Got feature names with dtypes: ['str', 'tuple']. An error will be raised in 1.2.\n",
            "  warnings.warn(\n",
            "/usr/local/lib/python3.8/dist-packages/sklearn/utils/validation.py:1688: FutureWarning: Feature names only support names that are all strings. Got feature names with dtypes: ['str', 'tuple']. An error will be raised in 1.2.\n",
            "  warnings.warn(\n",
            "/usr/local/lib/python3.8/dist-packages/sklearn/utils/validation.py:1688: FutureWarning: Feature names only support names that are all strings. Got feature names with dtypes: ['str', 'tuple']. An error will be raised in 1.2.\n",
            "  warnings.warn(\n"
          ]
        }
      ]
    },
    {
      "cell_type": "code",
      "source": [
        "g = sns.countplot(df['Class'])\n",
        "g_os = sns.countplot(y_ros)\n",
        "g.set_xticklabels(['SEKER','BARBUNYA','BOMBAY','CALI','HOROZ','SIRA','DERMASON'])\n",
        "plt.show()"
      ],
      "metadata": {
        "colab": {
          "base_uri": "https://localhost:8080/",
          "height": 368
        },
        "id": "h39ypiKWHAQU",
        "outputId": "406e9267-f44b-4e55-dffb-7fcc0a61c360"
      },
      "execution_count": null,
      "outputs": [
        {
          "output_type": "stream",
          "name": "stderr",
          "text": [
            "/usr/local/lib/python3.8/dist-packages/seaborn/_decorators.py:36: FutureWarning: Pass the following variable as a keyword arg: x. From version 0.12, the only valid positional argument will be `data`, and passing other arguments without an explicit keyword will result in an error or misinterpretation.\n",
            "  warnings.warn(\n",
            "/usr/local/lib/python3.8/dist-packages/seaborn/_decorators.py:36: FutureWarning: Pass the following variable as a keyword arg: x. From version 0.12, the only valid positional argument will be `data`, and passing other arguments without an explicit keyword will result in an error or misinterpretation.\n",
            "  warnings.warn(\n"
          ]
        },
        {
          "output_type": "display_data",
          "data": {
            "text/plain": [
              "<Figure size 432x288 with 1 Axes>"
            ],
            "image/png": "[encoded data removed]"
          },
          "metadata": {
            "needs_background": "light"
          }
        }
      ]
    },
    {
      "cell_type": "code",
      "source": [
        "#dimensionality reduction using PCA\n",
        "from sklearn.model_selection import train_test_split# model for splitting the data\n",
        "# we split 80% of the data for model training and 30% accuracy model testing\n",
        "XTrain, XTest, YTrain, YTest = train_test_split(X_std, y_ros, test_size = 0.2, random_state = 100)\n",
        "#PCA calculation\n",
        "pca=PCA()\n",
        "XTrain_pca=pca.fit_transform(XTrain)\n",
        "XTest_pca=pca.transform(XTest)\n",
        "#print(pca.explained_variance_ratio_*100)\n",
        "cum_sum_pca=np.cumsum(pca.explained_variance_ratio_*100)\n",
        "print(cum_sum_pca)\n",
        "plt.plot(pca.explained_variance_ratio_*100)\n",
        "plt.xlabel('Number of components')\n",
        "plt.ylabel('Explained variance(%)')\n"
      ],
      "metadata": {
        "colab": {
          "base_uri": "https://localhost:8080/",
          "height": 383
        },
        "id": "eg9pG58vHJCF",
        "outputId": "6d39cd93-b97a-4147-e86b-2359ec04b6d9"
      },
      "execution_count": null,
      "outputs": [
        {
          "output_type": "stream",
          "name": "stdout",
          "text": [
            "[ 41.37058826  66.01274429  73.39319141  79.35723872  84.76130156\n",
            "  89.89360409  94.3246526   97.3955138   98.32698219  99.10044982\n",
            "  99.45612811  99.69587299  99.87140519  99.96350408  99.99192491\n",
            "  99.99622193  99.99859911  99.99941634  99.9999393   99.99998533\n",
            "  99.99999314 100.         100.        ]\n"
          ]
        },
        {
          "output_type": "execute_result",
          "data": {
            "text/plain": [
              "Text(0, 0.5, 'Explained variance(%)')"
            ]
          },
          "metadata": {},
          "execution_count": 6
        },
        {
          "output_type": "display_data",
          "data": {
            "text/plain": [
              "<Figure size 432x288 with 1 Axes>"
            ],
            "image/png": "[encoded data removed]"
          },
          "metadata": {
            "needs_background": "light"
          }
        }
      ]
    },
    {
      "cell_type": "code",
      "source": [
        "plt.plot(np.cumsum(pca.explained_variance_ratio_*100))\n",
        "plt.xlabel('Number of components')\n",
        "plt.ylabel('Cumulative Explained variance(%)')\n"
      ],
      "metadata": {
        "colab": {
          "base_uri": "https://localhost:8080/",
          "height": 296
        },
        "id": "HWGaGIS_sqbO",
        "outputId": "41b46cd3-372e-4b7b-94f6-5505273683c4"
      },
      "execution_count": null,
      "outputs": [
        {
          "output_type": "execute_result",
          "data": {
            "text/plain": [
              "Text(0, 0.5, 'Cumulative Explained variance(%)')"
            ]
          },
          "metadata": {},
          "execution_count": 7
        },
        {
          "output_type": "display_data",
          "data": {
            "text/plain": [
              "<Figure size 432x288 with 1 Axes>"
            ],
            "image/png": "[encoded data removed]"
          },
          "metadata": {
            "needs_background": "light"
          }
        }
      ]
    },
    {
      "cell_type": "code",
      "source": [
        "#taking 95% of varaiance contributed components\n",
        "pca_95=PCA(n_components=0.95)\n",
        "X_pca_95=pca_95.fit_transform(X_std)\n",
        "print(X_pca_95.shape)\n",
        "#creating new dataset that is dimensionally reduced\n",
        "df_new=pd.DataFrame(X_pca_95,columns=['PC1','PC2','PC3','PC4','PC5','PC6','PC7','PC8'])\n",
        "df_new['Class']=y_ros\n",
        "print(df_new.head())\n",
        "#df_new.to_csv('Drybeans_95.csv',index=False)\n",
        "y_new = df_new['Class']#dependent variable\n",
        "X_new = df_new.drop(['Class'], axis = 1)#independent variable\n"
      ],
      "metadata": {
        "id": "X4Dj7pCRHZRq",
        "colab": {
          "base_uri": "https://localhost:8080/"
        },
        "outputId": "6e73653d-2b33-4819-ea13-c21a5719553e"
      },
      "execution_count": null,
      "outputs": [
        {
          "output_type": "stream",
          "name": "stdout",
          "text": [
            "(24822, 8)\n",
            "        PC1       PC2       PC3       PC4       PC5       PC6       PC7  \\\n",
            "0 -5.380244 -2.715643  0.384565 -0.035578  1.756156  0.220418  0.437295   \n",
            "1 -5.806259 -3.659385  1.620781  0.038155  1.925724  0.396634  0.961672   \n",
            "2 -5.188989 -2.674861  0.290593 -0.055578  1.690404  0.155996  0.198417   \n",
            "3 -4.883943 -2.718076  2.215966  0.765062  1.844107  0.608249  1.909725   \n",
            "4 -6.526379 -4.787345  0.700941 -0.068169  2.124589  0.296540  0.668834   \n",
            "\n",
            "        PC8  Class  \n",
            "0  0.028266  SEKER  \n",
            "1  0.453165  SEKER  \n",
            "2  0.263911  SEKER  \n",
            "3  0.792478  SEKER  \n",
            "4 -0.081584  SEKER  \n"
          ]
        }
      ]
    },
    {
      "cell_type": "code",
      "source": [
        "from sklearn.preprocessing import OneHotEncoder\n",
        "oe_style = OneHotEncoder()\n",
        "oe_results = oe_style.fit_transform(df_new[[\"Class\"]])\n",
        "pd.DataFrame(oe_results.toarray(), columns=oe_style.categories_).head()\n",
        "df_new = df_new.join(pd.DataFrame(oe_results.toarray(), columns=oe_style.categories_))"
      ],
      "metadata": {
        "id": "b_gE6mji1su7"
      },
      "execution_count": null,
      "outputs": []
    },
    {
      "cell_type": "code",
      "source": [
        "# standardization\n",
        "X_std = object.fit_transform(X_new)\n",
        "print(X_std)"
      ],
      "metadata": {
        "colab": {
          "base_uri": "https://localhost:8080/"
        },
        "id": "Zt5onUJPElRw",
        "outputId": "cce4ee8b-ab56-4324-bc97-e5d661bb6067"
      },
      "execution_count": null,
      "outputs": [
        {
          "output_type": "stream",
          "name": "stdout",
          "text": [
            "[[-1.74657343 -1.13905135  0.29395568 ...  0.20182571  0.43493656\n",
            "   0.03352367]\n",
            " [-1.88486928 -1.53489494  1.23890035 ...  0.36317795  0.95648628\n",
            "   0.53745862]\n",
            " [-1.68448677 -1.1219457   0.22212504 ...  0.1428375   0.19734704\n",
            "   0.31300184]\n",
            " ...\n",
            " [-0.55841264  0.01356457 -0.81753379 ... -2.13156404  0.29939739\n",
            "   1.63157136]\n",
            " [-0.31609155  0.9072626  -0.54200881 ... -1.97897949  0.89006751\n",
            "   0.19421387]\n",
            " [-0.35460843  0.41530259 -0.2684994  ... -1.96192449  1.12120742\n",
            "  -0.28810601]]\n"
          ]
        }
      ]
    },
    {
      "cell_type": "code",
      "source": [
        "from sklearn.model_selection import train_test_split# model for splitting the data\n",
        "# we split 80% of the data for model training and 20% accuracy model testing\n",
        "XTrain, XTest, YTrain, YTest = train_test_split(X_std, y_new, test_size = 0.2, random_state = 100)"
      ],
      "metadata": {
        "id": "GF4BThaBErFH"
      },
      "execution_count": null,
      "outputs": []
    },
    {
      "cell_type": "code",
      "source": [
        "from sklearn.naive_bayes import GaussianNB\n",
        "\n",
        "#Calling the Class\n",
        "naive_bayes = GaussianNB()\n",
        "\n",
        "#Fitting the data to the classifier\n",
        "naive_bayes.fit(XTrain , YTrain)\n",
        "\n",
        "#Predict on test data\n",
        "y_predicted = naive_bayes.predict(XTest)"
      ],
      "metadata": {
        "id": "rzEx8bmbHc2c"
      },
      "execution_count": null,
      "outputs": []
    },
    {
      "cell_type": "code",
      "source": [
        "from sklearn.metrics import accuracy_score,confusion_matrix,plot_confusion_matrix\n",
        "print('Accuracy score:')\n",
        "accuracy_score=accuracy_score(y_predicted , YTest)\n",
        "accuracy_score\n"
      ],
      "metadata": {
        "colab": {
          "base_uri": "https://localhost:8080/"
        },
        "id": "oVCwzjZ1Hgdl",
        "outputId": "eb02400b-9b3d-4129-c043-9e4d407a041d"
      },
      "execution_count": null,
      "outputs": [
        {
          "output_type": "stream",
          "name": "stdout",
          "text": [
            "Accuracy score:\n"
          ]
        },
        {
          "output_type": "execute_result",
          "data": {
            "text/plain": [
              "0.9981873111782478"
            ]
          },
          "metadata": {},
          "execution_count": 14
        }
      ]
    },
    {
      "cell_type": "code",
      "source": [
        "cm=confusion_matrix(YTest, y_predicted)\n",
        "cm"
      ],
      "metadata": {
        "colab": {
          "base_uri": "https://localhost:8080/"
        },
        "id": "v2rSuceLbSNf",
        "outputId": "cdf4e2dd-9c99-47ea-aec9-e49c0329d3bf"
      },
      "execution_count": null,
      "outputs": [
        {
          "output_type": "execute_result",
          "data": {
            "text/plain": [
              "array([[743,   0,   1,   0,   0,   0,   0],\n",
              "       [  0, 710,   0,   0,   0,   0,   0],\n",
              "       [  0,   0, 652,   0,   3,   0,   0],\n",
              "       [  0,   0,   0, 690,   2,   0,   0],\n",
              "       [  0,   0,   0,   0, 743,   0,   0],\n",
              "       [  0,   0,   0,   0,   2, 664,   0],\n",
              "       [  0,   0,   1,   0,   0,   0, 754]])"
            ]
          },
          "metadata": {},
          "execution_count": 15
        }
      ]
    },
    {
      "cell_type": "code",
      "source": [
        "plot_confusion_matrix(naive_bayes,XTest,YTest)"
      ],
      "metadata": {
        "colab": {
          "base_uri": "https://localhost:8080/",
          "height": 351
        },
        "id": "2OYN-S0gbWsC",
        "outputId": "a35dbdc6-daba-4414-f928-383b2ce7ee8b"
      },
      "execution_count": null,
      "outputs": [
        {
          "output_type": "stream",
          "name": "stderr",
          "text": [
            "/usr/local/lib/python3.8/dist-packages/sklearn/utils/deprecation.py:87: FutureWarning: Function plot_confusion_matrix is deprecated; Function `plot_confusion_matrix` is deprecated in 1.0 and will be removed in 1.2. Use one of the class methods: ConfusionMatrixDisplay.from_predictions or ConfusionMatrixDisplay.from_estimator.\n",
            "  warnings.warn(msg, category=FutureWarning)\n"
          ]
        },
        {
          "output_type": "execute_result",
          "data": {
            "text/plain": [
              "<sklearn.metrics._plot.confusion_matrix.ConfusionMatrixDisplay at 0x7f4c0495c1f0>"
            ]
          },
          "metadata": {},
          "execution_count": 16
        },
        {
          "output_type": "display_data",
          "data": {
            "text/plain": [
              "<Figure size 432x288 with 2 Axes>"
            ],
            "image/png": "[encoded data removed]"
          },
          "metadata": {
            "needs_background": "light"
          }
        }
      ]
    },
    {
      "cell_type": "code",
      "source": [
        "#decision tree classifier\n",
        "from sklearn.tree import DecisionTreeClassifier\n",
        "clf_model = DecisionTreeClassifier(criterion=\"entropy\", random_state=42,max_depth=3, min_samples_leaf=7)\n",
        "clf_model.fit(XTrain,YTrain)\n",
        "y_predict = clf_model.predict(XTest)\n",
        "from sklearn.metrics import accuracy_score,classification_report,confusion_matrix,plot_confusion_matrix\n",
        "accuracy_score(YTest,y_predict)\n"
      ],
      "metadata": {
        "colab": {
          "base_uri": "https://localhost:8080/"
        },
        "id": "NaqaLrtBHkBX",
        "outputId": "8d83b9de-6239-419f-e416-04b94c4a2f1a"
      },
      "execution_count": null,
      "outputs": [
        {
          "output_type": "execute_result",
          "data": {
            "text/plain": [
              "0.9945619335347432"
            ]
          },
          "metadata": {},
          "execution_count": 20
        }
      ]
    },
    {
      "cell_type": "code",
      "source": [
        "confusion_matrix(YTest,y_predict)"
      ],
      "metadata": {
        "colab": {
          "base_uri": "https://localhost:8080/"
        },
        "id": "VbUxP3iHbp3P",
        "outputId": "b9d9dfe1-58d1-4509-bed9-83d982fdd0bb"
      },
      "execution_count": null,
      "outputs": [
        {
          "output_type": "execute_result",
          "data": {
            "text/plain": [
              "array([[737,   3,   4,   0,   0,   0,   0],\n",
              "       [  7, 702,   1,   0,   0,   0,   0],\n",
              "       [  0,   2, 648,   0,   5,   0,   0],\n",
              "       [  0,   0,   0, 692,   0,   0,   0],\n",
              "       [  0,   0,   3,   0, 740,   0,   0],\n",
              "       [  0,   0,   0,   0,   0, 666,   0],\n",
              "       [  0,   0,   2,   0,   0,   0, 753]])"
            ]
          },
          "metadata": {},
          "execution_count": 21
        }
      ]
    },
    {
      "cell_type": "code",
      "source": [
        "plot_confusion_matrix(clf_model,XTest,YTest)"
      ],
      "metadata": {
        "colab": {
          "base_uri": "https://localhost:8080/",
          "height": 351
        },
        "id": "_utL5eoQbhfe",
        "outputId": "2559861f-930e-4a6a-cc05-7a4a6e967cbc"
      },
      "execution_count": null,
      "outputs": [
        {
          "output_type": "stream",
          "name": "stderr",
          "text": [
            "/usr/local/lib/python3.8/dist-packages/sklearn/utils/deprecation.py:87: FutureWarning: Function plot_confusion_matrix is deprecated; Function `plot_confusion_matrix` is deprecated in 1.0 and will be removed in 1.2. Use one of the class methods: ConfusionMatrixDisplay.from_predictions or ConfusionMatrixDisplay.from_estimator.\n",
            "  warnings.warn(msg, category=FutureWarning)\n"
          ]
        },
        {
          "output_type": "execute_result",
          "data": {
            "text/plain": [
              "<sklearn.metrics._plot.confusion_matrix.ConfusionMatrixDisplay at 0x7f4bcf03aaf0>"
            ]
          },
          "metadata": {},
          "execution_count": 22
        },
        {
          "output_type": "display_data",
          "data": {
            "text/plain": [
              "<Figure size 432x288 with 2 Axes>"
            ],
            "image/png": "[encoded data removed]"
          },
          "metadata": {
            "needs_background": "light"
          }
        }
      ]
    },
    {
      "cell_type": "code",
      "source": [
        "#SVM classifier\n",
        "from sklearn.svm import SVC\n",
        "clf = SVC(kernel='rbf', gamma=0.01, C=1000)\n",
        "clf.fit(XTrain, YTrain)\n",
        "predictions = clf.predict(XTest)\n",
        "accuracy_score(YTest, predictions)"
      ],
      "metadata": {
        "colab": {
          "base_uri": "https://localhost:8080/"
        },
        "id": "Le8SfvbPcElB",
        "outputId": "9bc7b4ee-d241-4cac-c606-452b0809f54f"
      },
      "execution_count": null,
      "outputs": [
        {
          "output_type": "execute_result",
          "data": {
            "text/plain": [
              "1.0"
            ]
          },
          "metadata": {},
          "execution_count": 23
        }
      ]
    },
    {
      "cell_type": "code",
      "source": [
        "confusion_matrix(YTest,predictions)"
      ],
      "metadata": {
        "colab": {
          "base_uri": "https://localhost:8080/"
        },
        "id": "33ageBf0cJnH",
        "outputId": "013c4711-c275-47a7-cda5-bd60bb40e3ff"
      },
      "execution_count": null,
      "outputs": [
        {
          "output_type": "execute_result",
          "data": {
            "text/plain": [
              "array([[744,   0,   0,   0,   0,   0,   0],\n",
              "       [  0, 710,   0,   0,   0,   0,   0],\n",
              "       [  0,   0, 655,   0,   0,   0,   0],\n",
              "       [  0,   0,   0, 692,   0,   0,   0],\n",
              "       [  0,   0,   0,   0, 743,   0,   0],\n",
              "       [  0,   0,   0,   0,   0, 666,   0],\n",
              "       [  0,   0,   0,   0,   0,   0, 755]])"
            ]
          },
          "metadata": {},
          "execution_count": 24
        }
      ]
    },
    {
      "cell_type": "code",
      "source": [
        "plot_confusion_matrix(clf,XTest,YTest)"
      ],
      "metadata": {
        "id": "ePQYZHYQcREd",
        "outputId": "740586bd-7ca1-40c8-b1dd-2ea9bfd95537",
        "colab": {
          "base_uri": "https://localhost:8080/",
          "height": 351
        }
      },
      "execution_count": null,
      "outputs": [
        {
          "output_type": "stream",
          "name": "stderr",
          "text": [
            "/usr/local/lib/python3.8/dist-packages/sklearn/utils/deprecation.py:87: FutureWarning: Function plot_confusion_matrix is deprecated; Function `plot_confusion_matrix` is deprecated in 1.0 and will be removed in 1.2. Use one of the class methods: ConfusionMatrixDisplay.from_predictions or ConfusionMatrixDisplay.from_estimator.\n",
            "  warnings.warn(msg, category=FutureWarning)\n"
          ]
        },
        {
          "output_type": "execute_result",
          "data": {
            "text/plain": [
              "<sklearn.metrics._plot.confusion_matrix.ConfusionMatrixDisplay at 0x7f4c26fade50>"
            ]
          },
          "metadata": {},
          "execution_count": 25
        },
        {
          "output_type": "display_data",
          "data": {
            "text/plain": [
              "<Figure size 432x288 with 2 Axes>"
            ],
            "image/png": "[encoded data removed]"
          },
          "metadata": {
            "needs_background": "light"
          }
        }
      ]
    }
  ]
}